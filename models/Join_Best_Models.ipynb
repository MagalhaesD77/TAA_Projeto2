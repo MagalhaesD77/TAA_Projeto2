{
 "cells": [
  {
   "cell_type": "markdown",
   "metadata": {},
   "source": [
    "# Imports"
   ]
  },
  {
   "cell_type": "markdown",
   "metadata": {},
   "source": []
  },
  {
   "cell_type": "code",
   "execution_count": 1,
   "metadata": {},
   "outputs": [],
   "source": [
    "#Import relevant libraries\n",
    "import numpy as np\n",
    "import pandas as pd\n",
    "import os\n",
    "from PIL import Image\n",
    "import csv\n",
    "\n",
    "\n",
    "from sklearn.model_selection import train_test_split\n",
    "\n",
    "%matplotlib inline\n",
    "import matplotlib.pyplot as plt\n",
    "\n",
    "from keras.utils import to_categorical\n",
    "from sklearn.metrics import confusion_matrix\n",
    "from sklearn.metrics import classification_report\n",
    "from keras.preprocessing.image import ImageDataGenerator\n",
    "import seaborn as sns\n",
    "import shutil"
   ]
  },
  {
   "cell_type": "markdown",
   "metadata": {},
   "source": [
    "# Load Images"
   ]
  },
  {
   "cell_type": "markdown",
   "metadata": {},
   "source": [
    "#### Load Test Images"
   ]
  },
  {
   "cell_type": "code",
   "execution_count": 2,
   "metadata": {},
   "outputs": [],
   "source": [
    "#this works as long as it is inside code/\n",
    "train_path = \"/\".join(os.getcwd().replace(\"\\\\\", \"/\").split(\"/\")[:-1]) + \"/archive/train/\"\n",
    "test_path = \"/\".join(os.getcwd().replace(\"\\\\\", \"/\").split(\"/\")[:-1]) + \"/archive/test/\"\n",
    "images_path = \"/\".join(os.getcwd().replace(\"\\\\\", \"/\").split(\"/\")[:-1]) + \"/archive/\"\n",
    "\n",
    "classes = os.listdir(train_path)\n",
    "\n",
    "test_images = []\n",
    "test_labels = []\n",
    "\n",
    "with open(images_path + 'Test.csv') as csv_file:\n",
    "    csv_reader = csv.reader(csv_file)\n",
    "    headers_test = next(csv_reader, None)  # skip the headers\n",
    "    for row in csv_reader:\n",
    "\n",
    "        img = Image.open(images_path + row[-1])\n",
    "\n",
    "        #Crop image (This is given in the file, not calculated)\n",
    "        img = img.crop((int(row[2]), int(row[3]), int(row[4]), int(row[5])))\n",
    "\n",
    "        #needs to resize\n",
    "        img = img.resize((30, 30))\n",
    "\n",
    "        #Convert image to grayscale\n",
    "#         img = img.convert('L')\n",
    "\n",
    "        #Convert image to numpy array (Feature Extraction)\n",
    "        img = np.array(img)#.flatten()\n",
    "        # img.reshape(img.shape[0], 1)\n",
    "\n",
    "        #Append image to list\n",
    "        test_images.append(img)\n",
    "\n",
    "        #Append label to list\n",
    "        test_labels.append(np.uint8(row[6]))\n",
    "\n",
    "X_test = np.array(test_images)\n",
    "y_test = np.array(test_labels)"
   ]
  },
  {
   "cell_type": "markdown",
   "metadata": {},
   "source": [
    "#### Normalize Data"
   ]
  },
  {
   "cell_type": "code",
   "execution_count": 3,
   "metadata": {},
   "outputs": [
    {
     "name": "stdout",
     "output_type": "stream",
     "text": [
      "X_test shape: (12630, 30, 30, 3)\n",
      "Y_test shape: (12630, 43)\n",
      "Number of test examples: 12630\n"
     ]
    }
   ],
   "source": [
    "# Normalize train, validation and test\n",
    "X_test = X_test/255.\n",
    "\n",
    "#Converting the labels into one hot encoding\n",
    "y_test = to_categorical(y_test, len(classes))\n",
    "\n",
    "#What is the shape of X_train, X_test, Y_train, Y_test\n",
    "print(\"X_test shape: \" + str(X_test.shape))\n",
    "print(\"Y_test shape: \" + str(y_test.shape))\n",
    "    \n",
    "# How many training and test examples ?\n",
    "print(\"Number of test examples: \" + str(X_test.shape[0]))"
   ]
  },
  {
   "cell_type": "markdown",
   "metadata": {},
   "source": [
    "#### Labels"
   ]
  },
  {
   "cell_type": "code",
   "execution_count": 4,
   "metadata": {},
   "outputs": [],
   "source": [
    "# Labels Translation\n",
    "classes_translation = { 0:'Speed limit (20km/h)',\n",
    "            1:'Speed limit (30km/h)', \n",
    "            2:'Speed limit (50km/h)', \n",
    "            3:'Speed limit (60km/h)', \n",
    "            4:'Speed limit (70km/h)', \n",
    "            5:'Speed limit (80km/h)', \n",
    "            6:'End of speed limit (80km/h)', \n",
    "            7:'Speed limit (100km/h)', \n",
    "            8:'Speed limit (120km/h)', \n",
    "            9:'No passing', \n",
    "            10:'No passing veh over 3.5 tons', \n",
    "            11:'Right-of-way at intersection', \n",
    "            12:'Priority road', \n",
    "            13:'Yield', \n",
    "            14:'Stop', \n",
    "            15:'No vehicles', \n",
    "            16:'Veh > 3.5 tons prohibited', \n",
    "            17:'No entry', \n",
    "            18:'General caution', \n",
    "            19:'Dangerous curve left', \n",
    "            20:'Dangerous curve right', \n",
    "            21:'Double curve', \n",
    "            22:'Bumpy road', \n",
    "            23:'Slippery road', \n",
    "            24:'Road narrows on the right', \n",
    "            25:'Road work', \n",
    "            26:'Traffic signals', \n",
    "            27:'Pedestrians', \n",
    "            28:'Children crossing', \n",
    "            29:'Bicycles crossing', \n",
    "            30:'Beware of ice/snow',\n",
    "            31:'Wild animals crossing', \n",
    "            32:'End speed + passing limits', \n",
    "            33:'Turn right ahead', \n",
    "            34:'Turn left ahead', \n",
    "            35:'Ahead only', \n",
    "            36:'Go straight or right', \n",
    "            37:'Go straight or left', \n",
    "            38:'Keep right', \n",
    "            39:'Keep left', \n",
    "            40:'Roundabout mandatory', \n",
    "            41:'End of no passing', \n",
    "            42:'End no passing veh > 3.5 tons' }"
   ]
  },
  {
   "cell_type": "markdown",
   "metadata": {},
   "source": [
    "# Analyse Dataset"
   ]
  },
  {
   "cell_type": "markdown",
   "metadata": {},
   "source": [
    "#### Check class distribution in test dataset"
   ]
  },
  {
   "cell_type": "code",
   "execution_count": 6,
   "metadata": {},
   "outputs": [
    {
     "data": {
      "image/png": "[encoded data removed]",
      "text/plain": [
       "<Figure size 1200x400 with 1 Axes>"
      ]
     },
     "metadata": {},
     "output_type": "display_data"
    }
   ],
   "source": [
    "# Check class distribution in test, train and validation\n",
    "n_samples_test = sum(y_test==1)\n",
    "\n",
    "\n",
    "fig, ax = plt.subplots(1, 1, figsize=(12, 4))\n",
    "ax.bar(classes, n_samples_test)\n",
    "ax.set_title('Test')\n",
    "fig.suptitle('Class distribution')\n",
    "plt.show()\n"
   ]
  },
  {
   "cell_type": "markdown",
   "metadata": {},
   "source": [
    "# Models"
   ]
  },
  {
   "cell_type": "markdown",
   "metadata": {},
   "source": [
    "#### Imports"
   ]
  },
  {
   "cell_type": "code",
   "execution_count": 7,
   "metadata": {},
   "outputs": [],
   "source": [
    "import warnings\n",
    "warnings.filterwarnings('ignore',category=FutureWarning)\n",
    "warnings.filterwarnings('ignore',category=DeprecationWarning)\n",
    "\n",
    "from keras import layers\n",
    "from keras.layers import Input, Dense, Activation, ZeroPadding2D, BatchNormalization, Flatten, Conv2D\n",
    "from keras.layers import AveragePooling2D, MaxPooling2D, Dropout, GlobalMaxPooling2D, GlobalAveragePooling2D\n",
    "from keras.models import Model\n",
    "from keras.preprocessing import image\n",
    "from keras.utils import layer_utils\n",
    "from keras.utils.data_utils import get_file\n",
    "from keras.applications.imagenet_utils import preprocess_input\n",
    "import pydot\n",
    "from IPython.display import SVG\n",
    "from keras.utils.vis_utils import model_to_dot\n",
    "from keras.utils import plot_model\n",
    "\n",
    "import keras.backend as K\n",
    "K.set_image_data_format('channels_last')"
   ]
  },
  {
   "cell_type": "code",
   "execution_count": 8,
   "metadata": {},
   "outputs": [],
   "source": [
    "import h5py\n",
    "from tensorflow.keras.models import model_from_json, model_from_yaml\n",
    "\n",
    "# Load model1\n",
    "h5_file = h5py.File('trained_models/best_models/cnn4_1_98_original.h5', 'r')\n",
    "\n",
    "json_string = h5_file.attrs['model_config']\n",
    "model1 = model_from_json(json_string)\n",
    "model1.load_weights('trained_models/best_models/cnn4_1_98_original.h5')\n",
    "\n",
    "h5_file.close()\n",
    "\n",
    "# Load model2\n",
    "h5_file_2 = h5py.File('trained_models/best_models/cnn3_97.h5', 'r')\n",
    "\n",
    "json_string = h5_file_2.attrs['model_config']\n",
    "model2 = model_from_json(json_string)\n",
    "model2.load_weights('trained_models/best_models/cnn3_97.h5')\n",
    "\n",
    "h5_file.close()\n",
    "\n",
    "# Load model3\n",
    "h5_file_3 = h5py.File('trained_models/best_models/cnn4_1_98_aug.h5', 'r')\n",
    "\n",
    "json_string = h5_file_3.attrs['model_config']\n",
    "model3 = model_from_json(json_string)\n",
    "model3.load_weights('trained_models/best_models/cnn4_1_98_aug.h5')\n",
    "\n",
    "# Load model4\n",
    "h5_file_4 = h5py.File('trained_models/best_models/cnn3_96_aug.h5', 'r')\n",
    "\n",
    "json_string = h5_file_4.attrs['model_config']\n",
    "model4 = model_from_json(json_string)\n",
    "model4.load_weights('trained_models/best_models/cnn3_96_aug.h5')\n",
    "\n",
    "# Load model5\n",
    "h5_file_5 = h5py.File('trained_models/best_models/cnn3_3_96_aug.h5', 'r')\n",
    "\n",
    "json_string = h5_file_5.attrs['model_config']\n",
    "model5 = model_from_json(json_string)\n",
    "model5.load_weights('trained_models/best_models/cnn3_3_96_aug.h5')\n",
    "\n",
    "# Load model6\n",
    "h5_file_6 = h5py.File('trained_models/best_models/cnn3_3_95_original.h5', 'r')\n",
    "\n",
    "json_string = h5_file_6.attrs['model_config']\n",
    "model6 = model_from_json(json_string)\n",
    "model6.load_weights('trained_models/best_models/cnn3_3_95_original.h5')\n",
    "\n",
    "# Load model7\n",
    "h5_file_7 = h5py.File('trained_models/best_models/cnn3_2_97_aug.h5', 'r')\n",
    "\n",
    "json_string = h5_file_7.attrs['model_config']\n",
    "model7 = model_from_json(json_string)\n",
    "model7.load_weights('trained_models/best_models/cnn3_2_97_aug.h5')\n"
   ]
  },
  {
   "cell_type": "markdown",
   "metadata": {},
   "source": [
    "##### Test model"
   ]
  },
  {
   "cell_type": "code",
   "execution_count": 9,
   "metadata": {},
   "outputs": [
    {
     "name": "stdout",
     "output_type": "stream",
     "text": [
      "395/395 [==============================] - 13s 31ms/step\n",
      "395/395 [==============================] - 5s 11ms/step\n",
      "395/395 [==============================] - 12s 30ms/step\n",
      "395/395 [==============================] - 8s 19ms/step\n",
      "Accuracy: 0.9942201108471892\n"
     ]
    }
   ],
   "source": [
    "predicted1 = model1.predict(X_test)\n",
    "predicted2 = model2.predict(X_test)\n",
    "predicted3 = model3.predict(X_test)\n",
    "# predicted4 = model4.predict(X_test)\n",
    "# predicted5 = model5.predict(X_test)\n",
    "# predicted6 = model6.predict(X_test)\n",
    "predicted7 = model7.predict(X_test)\n",
    "\n",
    "predicted_sum = predicted1 + predicted2 + predicted3 + predicted7\n",
    "\n",
    "# Compare the predicted class with the real class\n",
    "predicted_classes = np.argmax(predicted_sum, axis = 1)\n",
    "real_classes = np.argmax(y_test, axis = 1)\n",
    "\n",
    "# Print the accuracy\n",
    "print(\"Accuracy:\", sum(predicted_classes == real_classes)/len(real_classes))"
   ]
  },
  {
   "cell_type": "code",
   "execution_count": 21,
   "metadata": {},
   "outputs": [
    {
     "data": {
      "image/png": "[encoded data removed]",
      "text/plain": [
       "<Figure size 1000x800 with 2 Axes>"
      ]
     },
     "metadata": {},
     "output_type": "display_data"
    }
   ],
   "source": [
    "# Model1 confusion matrix\n",
    "y_pred_classes = predicted_classes\n",
    "y_true = real_classes\n",
    "cm = confusion_matrix(y_true, y_pred_classes)\n",
    "\n",
    "\n",
    "# Plot confusion matrix\n",
    "plt.figure(figsize=(10,8))\n",
    "sns.heatmap(cm, annot=False, fmt='d')\n",
    "plt.title('Confusion Matrix for CNN1')\n",
    "plt.ylabel('True Label')\n",
    "plt.xlabel('Predicted Label')\n",
    "plt.show()\n",
    "\n",
    "# Accuracy by class\n",
    "diagonal = np.diag(cm)\n",
    "# Use the percentage of correct predictions\n",
    "diagonal = diagonal/cm.sum(axis=1)*100\n",
    "plt.bar(range(len(diagonal)), diagonal)\n",
    "plt.xlabel('Class')\n",
    "plt.ylabel('Number of correct predictions')\n",
    "plt.title('Accuracy by class for CNN1')\n",
    "plt.show()\n",
    "\n",
    "# Classification report\n",
    "print(classification_report(y_true, y_pred_classes))"
   ]
  },
  {
   "cell_type": "markdown",
   "metadata": {},
   "source": [
    "#### Ensemble models"
   ]
  },
  {
   "cell_type": "code",
   "execution_count": 10,
   "metadata": {},
   "outputs": [
    {
     "name": "stdout",
     "output_type": "stream",
     "text": [
      "1/1 [==============================] - 0s 201ms/step\n",
      "1/1 [==============================] - 0s 276ms/step\n",
      "1/1 [==============================] - 0s 315ms/step\n",
      "1/1 [==============================] - 0s 342ms/step\n",
      "Predicted class: 16\n",
      "Real class: 16\n",
      "Time: 0.7889814376831055\n"
     ]
    }
   ],
   "source": [
    "# Import thread\n",
    "from threading import Thread\n",
    "import time\n",
    "\n",
    "x_sample = X_test[0].reshape(1, X_test[0].shape[0], X_test[0].shape[0], X_test[1].shape[2])\n",
    "y_sample = y_test[0]\n",
    "\n",
    "# Use thread to predict using every model simultaneously\n",
    "\n",
    "# Predict a image using model\n",
    "def predict(model, x, results, thread_name):\n",
    "    predicted = model.predict(x)\n",
    "    results[thread_name] = predicted\n",
    "\n",
    "\n",
    "start = time.time()\n",
    "# Create a dictionary to store the results\n",
    "results = {}\n",
    "\n",
    "# Create thread\n",
    "t1 = Thread(target=predict, args=(model1, x_sample, results, 'model1'))\n",
    "t2 = Thread(target=predict, args=(model2, x_sample, results, 'model2'))\n",
    "t3 = Thread(target=predict, args=(model3, x_sample, results, 'model3'))\n",
    "t7 = Thread(target=predict, args=(model7, x_sample, results, 'model7'))\n",
    "\n",
    "# Start thread\n",
    "t1.start()\n",
    "t2.start()\n",
    "t3.start()\n",
    "t7.start()\n",
    "\n",
    "# Wait for thread to finish\n",
    "t1.join()\n",
    "t2.join()\n",
    "t3.join()\n",
    "t7.join()\n",
    "\n",
    "# Retrieve the results\n",
    "predicted1 = results[\"model1\"]\n",
    "predicted2 = results[\"model2\"]\n",
    "predicted3 = results[\"model3\"]\n",
    "predicted7 = results[\"model7\"]\n",
    "\n",
    "# Sum the prediction\n",
    "predicted_sum = predicted1 + predicted2 + predicted3 + predicted7\n",
    "\n",
    "stop = time.time()\n",
    "\n",
    "# Compare the predicted class with the real class\n",
    "print(\"Predicted class:\", np.argmax(predicted_sum))\n",
    "print(\"Real class:\", np.argmax(y_sample))\n",
    "\n",
    "print(\"Time:\", stop - start)"
   ]
  },
  {
   "cell_type": "code",
   "execution_count": 11,
   "metadata": {},
   "outputs": [
    {
     "name": "stdout",
     "output_type": "stream",
     "text": [
      "1/1 [==============================] - 0s 156ms/step\n",
      "1/1 [==============================] - 0s 167ms/step\n",
      "1/1 [==============================] - 0s 125ms/step\n",
      "1/1 [==============================] - 0s 97ms/step\n",
      "Predicted class: 16\n",
      "Real class: 16\n",
      "Time: 1.0962085723876953\n"
     ]
    }
   ],
   "source": [
    "from threading import Thread\n",
    "import time\n",
    "\n",
    "x_sample = X_test[0].reshape(1, X_test[0].shape[0], X_test[0].shape[0], X_test[1].shape[2])\n",
    "y_sample = y_test[0]\n",
    "\n",
    "start = time.time()\n",
    "\n",
    "predicted1 = model1.predict(x_sample)\n",
    "predicted2 = model2.predict(x_sample)\n",
    "predicted3 = model3.predict(x_sample)\n",
    "predicted7 = model7.predict(x_sample)\n",
    "\n",
    "predicted_sum = predicted1 + predicted2 + predicted3 + predicted7\n",
    "\n",
    "stop = time.time()\n",
    "\n",
    "# Compare the predicted class with the real class\n",
    "print(\"Predicted class:\", np.argmax(predicted_sum))\n",
    "print(\"Real class:\", np.argmax(y_sample))\n",
    "\n",
    "print(\"Time:\", stop - start)\n"
   ]
  },
  {
   "cell_type": "code",
   "execution_count": 17,
   "metadata": {},
   "outputs": [],
   "source": [
    "# Ensemble best model trained with grayscale images and best model trained with augmented images and best model trained with original images\n",
    "# Load model1\n",
    "h5_file_1 = h5py.File('trained_models/grayscale/cnn4_1_98.h5', 'r')\n",
    "\n",
    "json_string = h5_file_1.attrs['model_config']\n",
    "model1 = model_from_json(json_string)\n",
    "model1.load_weights('trained_models/grayscale/cnn4_1_98.h5')\n",
    "\n",
    "# Load model2\n",
    "h5_file_2 = h5py.File('trained_models/best_models/cnn4_1_98_original.h5', 'r')\n",
    "\n",
    "json_string = h5_file_2.attrs['model_config']\n",
    "model2 = model_from_json(json_string)\n",
    "model2.load_weights('trained_models/best_models/cnn4_1_98_original.h5')\n",
    "\n",
    "# Load model3\n",
    "h5_file_3 = h5py.File('trained_models/best_models/cnn4_1_98_aug.h5', 'r')\n",
    "\n",
    "json_string = h5_file_3.attrs['model_config']\n",
    "model3 = model_from_json(json_string)\n",
    "model3.load_weights('trained_models/best_models/cnn4_1_98_aug.h5')\n",
    "\n",
    "# Load model7\n",
    "h5_file_7 = h5py.File('trained_models/best_models/cnn3_2_97_aug.h5', 'r')\n",
    "\n",
    "json_string = h5_file_7.attrs['model_config']\n",
    "model7 = model_from_json(json_string)\n",
    "model7.load_weights('trained_models/best_models/cnn3_2_97_aug.h5')"
   ]
  },
  {
   "cell_type": "markdown",
   "metadata": {},
   "source": [
    "# Load Grayscale Images"
   ]
  },
  {
   "cell_type": "markdown",
   "metadata": {},
   "source": [
    "#### Load Test Images"
   ]
  },
  {
   "cell_type": "code",
   "execution_count": 13,
   "metadata": {},
   "outputs": [],
   "source": [
    "#this works as long as it is inside code/\n",
    "train_path = \"/\".join(os.getcwd().replace(\"\\\\\", \"/\").split(\"/\")[:-1]) + \"/archive/train/\"\n",
    "test_path = \"/\".join(os.getcwd().replace(\"\\\\\", \"/\").split(\"/\")[:-1]) + \"/archive/test/\"\n",
    "images_path = \"/\".join(os.getcwd().replace(\"\\\\\", \"/\").split(\"/\")[:-1]) + \"/archive/\"\n",
    "\n",
    "classes = os.listdir(train_path)\n",
    "\n",
    "test_images = []\n",
    "test_labels = []\n",
    "\n",
    "with open(images_path + 'Test.csv') as csv_file:\n",
    "    csv_reader = csv.reader(csv_file)\n",
    "    headers_test = next(csv_reader, None)  # skip the headers\n",
    "    for row in csv_reader:\n",
    "\n",
    "        img = Image.open(images_path + row[-1])\n",
    "\n",
    "        #Crop image (This is given in the file, not calculated)\n",
    "        img = img.crop((int(row[2]), int(row[3]), int(row[4]), int(row[5])))\n",
    "\n",
    "        #needs to resize\n",
    "        img = img.resize((30, 30))\n",
    "\n",
    "        #Convert image to grayscale\n",
    "        img = img.convert('L')\n",
    "\n",
    "        #Convert image to numpy array (Feature Extraction)\n",
    "        img = np.array(img)#.flatten()\n",
    "        # img.reshape(img.shape[0], 1)\n",
    "        \n",
    "        # Reshape image to work with ZeroPadding\n",
    "        img = img.reshape(img.shape[0], img.shape[1], 1)\n",
    "\n",
    "        #Append image to list\n",
    "        test_images.append(img)\n",
    "\n",
    "        #Append label to list\n",
    "        test_labels.append(np.uint8(row[6]))\n",
    "\n",
    "X_test_grayscale = np.array(test_images)\n",
    "y_test_grayscale = np.array(test_labels)"
   ]
  },
  {
   "cell_type": "markdown",
   "metadata": {},
   "source": [
    "#### Normalize Data"
   ]
  },
  {
   "cell_type": "code",
   "execution_count": 14,
   "metadata": {},
   "outputs": [
    {
     "name": "stdout",
     "output_type": "stream",
     "text": [
      "X_test shape: (12630, 30, 30, 1)\n",
      "Y_test shape: (12630, 43)\n",
      "Number of test examples: 12630\n"
     ]
    }
   ],
   "source": [
    "# Normalize train, validation and test\n",
    "X_test_grayscale = X_test_grayscale/255.\n",
    "\n",
    "#Converting the labels into one hot encoding\n",
    "y_test_grayscale = to_categorical(y_test_grayscale, len(classes))\n",
    "\n",
    "#What is the shape of X_train, X_test, Y_train, Y_test\n",
    "print(\"X_test shape: \" + str(X_test_grayscale.shape))\n",
    "print(\"Y_test shape: \" + str(y_test_grayscale.shape))\n",
    "    \n",
    "# How many training and test examples ?\n",
    "print(\"Number of test examples: \" + str(X_test_grayscale.shape[0]))"
   ]
  },
  {
   "cell_type": "markdown",
   "metadata": {},
   "source": [
    "# Ensemble grayscale and original images"
   ]
  },
  {
   "cell_type": "code",
   "execution_count": 20,
   "metadata": {},
   "outputs": [
    {
     "name": "stdout",
     "output_type": "stream",
     "text": [
      "395/395 [==============================] - 14s 35ms/step\n",
      "395/395 [==============================] - 14s 36ms/step\n",
      "395/395 [==============================] - 14s 36ms/step\n",
      "395/395 [==============================] - 10s 24ms/step\n",
      "Accuracy: 0.9939825811559778\n"
     ]
    }
   ],
   "source": [
    "predicted1 = model1.predict(X_test_grayscale)\n",
    "predicted2 = model2.predict(X_test)\n",
    "predicted3 = model3.predict(X_test)\n",
    "predicted7 = model7.predict(X_test)\n",
    "\n",
    "predicted_sum = predicted1 + predicted2 + predicted3 + predicted7\n",
    "\n",
    "# Compare the predicted class with the real class\n",
    "predicted_classes = np.argmax(predicted_sum, axis = 1)\n",
    "real_classes = np.argmax(y_test, axis = 1)\n",
    "\n",
    "# Print the accuracy\n",
    "print(\"Accuracy:\", sum(predicted_classes == real_classes)/len(real_classes))"
   ]
  }
 ],
 "metadata": {
  "kernelspec": {
   "display_name": "Python 3.10.9 ('base')",
   "language": "python",
   "name": "python3"
  },
  "language_info": {
   "codemirror_mode": {
    "name": "ipython",
    "version": 3
   },
   "file_extension": ".py",
   "mimetype": "text/x-python",
   "name": "python",
   "nbconvert_exporter": "python",
   "pygments_lexer": "ipython3",
   "version": "3.10.9"
  },
  "orig_nbformat": 4,
  "vscode": {
   "interpreter": {
    "hash": "e662921971543f0c1b7e58ad957303fc509e2cf2db917fc28542c6728a789df0"
   }
  }
 },
 "nbformat": 4,
 "nbformat_minor": 2
}
