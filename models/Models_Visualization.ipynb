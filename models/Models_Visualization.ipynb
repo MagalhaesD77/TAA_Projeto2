{
 "cells": [
  {
   "cell_type": "code",
   "execution_count": 1,
   "metadata": {},
   "outputs": [],
   "source": [
    "import visualkeras\n",
    "\n",
    "#Import relevant libraries\n",
    "import numpy as np\n",
    "import pandas as pd\n",
    "import os\n",
    "from PIL import Image\n",
    "import csv\n",
    "\n",
    "\n",
    "from sklearn.model_selection import train_test_split\n",
    "\n",
    "%matplotlib inline\n",
    "import matplotlib.pyplot as plt\n",
    "\n",
    "from keras.utils import to_categorical\n",
    "from sklearn.metrics import confusion_matrix\n",
    "from sklearn.metrics import classification_report\n",
    "import seaborn as sns\n",
    "\n",
    "import warnings\n",
    "warnings.filterwarnings('ignore',category=FutureWarning)\n",
    "warnings.filterwarnings('ignore',category=DeprecationWarning)\n",
    "\n",
    "from keras import layers\n",
    "from keras.layers import Input, Dense, Activation, ZeroPadding2D, BatchNormalization, Flatten, Conv2D\n",
    "from keras.layers import AveragePooling2D, MaxPooling2D, Dropout, GlobalMaxPooling2D, GlobalAveragePooling2D\n",
    "from keras.models import Model\n",
    "from keras.preprocessing import image\n",
    "from keras.utils import layer_utils\n",
    "from keras.utils.data_utils import get_file\n",
    "from keras.applications.imagenet_utils import preprocess_input\n",
    "import pydot\n",
    "from IPython.display import SVG\n",
    "from keras.utils.vis_utils import model_to_dot\n",
    "from keras.utils import plot_model\n",
    "\n",
    "import keras.backend as K\n",
    "K.set_image_data_format('channels_last')"
   ]
  },
  {
   "cell_type": "code",
   "execution_count": 2,
   "metadata": {},
   "outputs": [],
   "source": [
    "#this works as long as it is inside code/\n",
    "train_path = \"/\".join(os.getcwd().replace(\"\\\\\", \"/\").split(\"/\")[:-1]) + \"/archive/train/\"\n",
    "test_path = \"/\".join(os.getcwd().replace(\"\\\\\", \"/\").split(\"/\")[:-1]) + \"/archive/test/\"\n",
    "images_path = \"/\".join(os.getcwd().replace(\"\\\\\", \"/\").split(\"/\")[:-1]) + \"/archive/\"\n",
    "\n",
    "classes = os.listdir(train_path)\n",
    "\n",
    "images = []\n",
    "labels = []\n",
    "\n",
    "#Read csv file\n",
    "with open(images_path + 'Train.csv') as csv_file:\n",
    "    csv_reader = csv.reader(csv_file, delimiter=',')\n",
    "    headers = next(csv_reader, None)\n",
    "\n",
    "    for row in csv_reader:\n",
    "        # Se quiser limitar a quantidade de imagens\n",
    "        if np.random.rand(1) < 0.9:\n",
    "            continue\n",
    "\n",
    "        img = Image.open(images_path + row[-1])\n",
    "\n",
    "        #Crop image (This is given in the file, not calculated)\n",
    "        img = img.crop((int(row[2]), int(row[3]), int(row[4]), int(row[5])))\n",
    "\n",
    "        #needs to resize\n",
    "        img = img.resize((30, 30))\n",
    "\n",
    "        #Convert image to grayscale\n",
    "#         img = img.convert('L')\n",
    "\n",
    "        #Convert image to numpy array (Feature Extraction)\n",
    "        img = np.array(img)#.flatten()\n",
    "        # img.reshape(img.shape[0], 1)\n",
    "\n",
    "        #Append image to list\n",
    "        images.append(img)\n",
    "\n",
    "        #Append label to list\n",
    "        labels.append(np.uint8(row[6]))\n",
    "\n",
    "X = np.array(images)\n",
    "y = np.array(labels)\n",
    "y = y.reshape(y.shape[0], 1)\n",
    "\n",
    "#Split dataset, mantaining the proportion of samples in each class\n",
    "X_train, X_val, y_train, y_val = train_test_split(X, y, test_size=0.2, random_state=68, stratify=y)\n"
   ]
  },
  {
   "cell_type": "markdown",
   "metadata": {},
   "source": [
    "# CNN1"
   ]
  },
  {
   "cell_type": "code",
   "execution_count": 3,
   "metadata": {},
   "outputs": [],
   "source": [
    "def CNN1(input_shape):\n",
    "    X_input = Input(input_shape)\n",
    "\n",
    "    X = ZeroPadding2D((3, 3))(X_input)\n",
    "\n",
    "    # BLOCK 1: CONV -> BN -> RELU -> MAXP\n",
    "    X = Conv2D(32, kernel_size=(3, 3), activation='relu', strides = (1, 1), name = 'conv0')(X)\n",
    "\n",
    "    X = MaxPooling2D(pool_size=(2, 2), name='max_pool')(X)\n",
    "\n",
    "    # Dropout offers a very computationally cheap and remarkably effective regularization method to reduce overfitting and improve generalization error in deep neural networks of all kinds.\n",
    "    X = Dropout(0.2)(X)\n",
    "\n",
    "    # FLATTEN X (means convert it to a vector) + FULLYCONNECTED\n",
    "    X = Flatten()(X)\n",
    "    X = Dense(256, activation='relu')(X)\n",
    "    X = Dropout(0.3)(X)\n",
    "    X = Dense(43, activation='softmax')(X)\n",
    "\n",
    "    # Create model.\n",
    "    model = Model(inputs = X_input, outputs = X, name='CNN1')\n",
    "\n",
    "    return model"
   ]
  },
  {
   "cell_type": "code",
   "execution_count": 4,
   "metadata": {},
   "outputs": [],
   "source": [
    "# Create the model\n",
    "cnn1 = CNN1(X_train.shape[1:])\n",
    "\n",
    "# Compile model\n",
    "cnn1.compile(optimizer = \"adam\", loss='categorical_crossentropy', metrics=['accuracy'])"
   ]
  },
  {
   "cell_type": "code",
   "execution_count": 5,
   "metadata": {},
   "outputs": [
    {
     "name": "stdout",
     "output_type": "stream",
     "text": [
      "Model: \"CNN1\"\n",
      "_________________________________________________________________\n",
      " Layer (type)                Output Shape              Param #   \n",
      "=================================================================\n",
      " input_1 (InputLayer)        [(None, 30, 30, 3)]       0         \n",
      "                                                                 \n",
      " zero_padding2d (ZeroPadding  (None, 36, 36, 3)        0         \n",
      " 2D)                                                             \n",
      "                                                                 \n",
      " conv0 (Conv2D)              (None, 34, 34, 32)        896       \n",
      "                                                                 \n",
      " max_pool (MaxPooling2D)     (None, 17, 17, 32)        0         \n",
      "                                                                 \n",
      " dropout (Dropout)           (None, 17, 17, 32)        0         \n",
      "                                                                 \n",
      " flatten (Flatten)           (None, 9248)              0         \n",
      "                                                                 \n",
      " dense (Dense)               (None, 256)               2367744   \n",
      "                                                                 \n",
      " dropout_1 (Dropout)         (None, 256)               0         \n",
      "                                                                 \n",
      " dense_1 (Dense)             (None, 43)                11051     \n",
      "                                                                 \n",
      "=================================================================\n",
      "Total params: 2,379,691\n",
      "Trainable params: 2,379,691\n",
      "Non-trainable params: 0\n",
      "_________________________________________________________________\n"
     ]
    }
   ],
   "source": [
    "# CNN model summary\n",
    "\n",
    "cnn1.summary()"
   ]
  },
  {
   "cell_type": "code",
   "execution_count": 6,
   "metadata": {},
   "outputs": [
    {
     "data": {
      "image/png": "[encoded data removed]",
      "text/plain": [
       "<PIL.Image.Image image mode=RGBA size=695x192>"
      ]
     },
     "execution_count": 6,
     "metadata": {},
     "output_type": "execute_result"
    }
   ],
   "source": [
    "visualkeras.layered_view(cnn1)"
   ]
  },
  {
   "cell_type": "markdown",
   "metadata": {},
   "source": [
    "# CNN3"
   ]
  },
  {
   "cell_type": "code",
   "execution_count": 7,
   "metadata": {},
   "outputs": [],
   "source": [
    "def CNN3(input_shape):\n",
    "    X_input = Input(input_shape)\n",
    "\n",
    "    X = ZeroPadding2D((3, 3))(X_input)\n",
    "\n",
    "    # BLOCK 1: CONV -> RELU -> MAXP -> DROPOUT\n",
    "    X = Conv2D(32, kernel_size=(3, 3), activation='relu', strides = (1, 1), name = 'conv0')(X)\n",
    "    X = MaxPooling2D(pool_size=(2, 2))(X)\n",
    "    X = Dropout(0.25)(X)\n",
    "\n",
    "    # BLOCK 2: CONV -> RELU -> MAXP -> DROPOUT\n",
    "    X = Conv2D(64, kernel_size=(3, 3), activation='relu', strides = (1, 1), name = 'conv1')(X)\n",
    "    X = MaxPooling2D(pool_size=(2, 2))(X)\n",
    "    X = Dropout(0.25)(X)\n",
    "\n",
    "    # BLOCK 3: CONV -> RELU -> MAXP -> DROPOUT\n",
    "    X = Conv2D(128, kernel_size=(3, 3), activation='relu', strides = (1, 1), name = 'conv2')(X)\n",
    "    X = MaxPooling2D(pool_size=(2, 2))(X)\n",
    "    X = Dropout(0.4)(X)\n",
    "\n",
    "    # FLATTEN X (means convert it to a vector) + FULLYCONNECTED\n",
    "    X = Flatten()(X)\n",
    "    X = Dense(256, activation='relu')(X)\n",
    "    X = Dropout(0.3)(X)\n",
    "    X = Dense(43, activation='softmax')(X)\n",
    "\n",
    "    # Create model.\n",
    "    model = Model(inputs = X_input, outputs = X, name='CNN1')\n",
    "\n",
    "    return model"
   ]
  },
  {
   "cell_type": "code",
   "execution_count": 8,
   "metadata": {},
   "outputs": [],
   "source": [
    "# Create the model\n",
    "cnn3 = CNN3(X_train.shape[1:])\n",
    "\n",
    "# Compile model\n",
    "cnn3.compile(optimizer = \"adam\", loss='categorical_crossentropy', metrics=['accuracy'])"
   ]
  },
  {
   "cell_type": "code",
   "execution_count": 9,
   "metadata": {},
   "outputs": [
    {
     "name": "stdout",
     "output_type": "stream",
     "text": [
      "Model: \"CNN1\"\n",
      "_________________________________________________________________\n",
      " Layer (type)                Output Shape              Param #   \n",
      "=================================================================\n",
      " input_2 (InputLayer)        [(None, 30, 30, 3)]       0         \n",
      "                                                                 \n",
      " zero_padding2d_1 (ZeroPaddi  (None, 36, 36, 3)        0         \n",
      " ng2D)                                                           \n",
      "                                                                 \n",
      " conv0 (Conv2D)              (None, 34, 34, 32)        896       \n",
      "                                                                 \n",
      " max_pooling2d (MaxPooling2D  (None, 17, 17, 32)       0         \n",
      " )                                                               \n",
      "                                                                 \n",
      " dropout_2 (Dropout)         (None, 17, 17, 32)        0         \n",
      "                                                                 \n",
      " conv1 (Conv2D)              (None, 15, 15, 64)        18496     \n",
      "                                                                 \n",
      " max_pooling2d_1 (MaxPooling  (None, 7, 7, 64)         0         \n",
      " 2D)                                                             \n",
      "                                                                 \n",
      " dropout_3 (Dropout)         (None, 7, 7, 64)          0         \n",
      "                                                                 \n",
      " conv2 (Conv2D)              (None, 5, 5, 128)         73856     \n",
      "                                                                 \n",
      " max_pooling2d_2 (MaxPooling  (None, 2, 2, 128)        0         \n",
      " 2D)                                                             \n",
      "                                                                 \n",
      " dropout_4 (Dropout)         (None, 2, 2, 128)         0         \n",
      "                                                                 \n",
      " flatten_1 (Flatten)         (None, 512)               0         \n",
      "                                                                 \n",
      " dense_2 (Dense)             (None, 256)               131328    \n",
      "                                                                 \n",
      " dropout_5 (Dropout)         (None, 256)               0         \n",
      "                                                                 \n",
      " dense_3 (Dense)             (None, 43)                11051     \n",
      "                                                                 \n",
      "=================================================================\n",
      "Total params: 235,627\n",
      "Trainable params: 235,627\n",
      "Non-trainable params: 0\n",
      "_________________________________________________________________\n"
     ]
    }
   ],
   "source": [
    "# CNN model summary\n",
    "\n",
    "cnn3.summary()"
   ]
  },
  {
   "cell_type": "code",
   "execution_count": 10,
   "metadata": {},
   "outputs": [
    {
     "data": {
      "image/png": "[encoded data removed]",
      "text/plain": [
       "<PIL.Image.Image image mode=RGBA size=526x192>"
      ]
     },
     "execution_count": 10,
     "metadata": {},
     "output_type": "execute_result"
    }
   ],
   "source": [
    "visualkeras.layered_view(cnn3)"
   ]
  },
  {
   "cell_type": "markdown",
   "metadata": {},
   "source": [
    "# CNN3_2"
   ]
  },
  {
   "cell_type": "code",
   "execution_count": 11,
   "metadata": {},
   "outputs": [],
   "source": [
    "def CNN3_2(input_shape):\n",
    "    X_input = Input(input_shape)\n",
    "\n",
    "    X = ZeroPadding2D((3, 3))(X_input)\n",
    "\n",
    "    # BLOCK 1: CONV -> RELU -> MAXP -> DROPOUT\n",
    "    X = Conv2D(32, kernel_size=(3, 3), activation='relu', strides = (1, 1), name = 'conv0')(X)\n",
    "    X = BatchNormalization()(X)\n",
    "    X = MaxPooling2D(pool_size=(2, 2))(X)\n",
    "\n",
    "    # BLOCK 2: CONV -> RELU -> MAXP -> DROPOUT\n",
    "    X = Conv2D(64, kernel_size=(3, 3), activation='relu', strides = (1, 1), name = 'conv1')(X)\n",
    "    X = BatchNormalization()(X)\n",
    "    X = MaxPooling2D(pool_size=(2, 2))(X)\n",
    "\n",
    "    # BLOCK 3: CONV -> RELU -> MAXP -> DROPOUT\n",
    "    X = Conv2D(128, kernel_size=(3, 3), activation='relu', strides = (1, 1), name = 'conv2')(X)\n",
    "    X = BatchNormalization()(X)\n",
    "    X = MaxPooling2D(pool_size=(2, 2))(X)\n",
    "\n",
    "    # FLATTEN X (means convert it to a vector) + FULLYCONNECTED\n",
    "    X = Flatten()(X)\n",
    "    X = Dense(256, activation='relu')(X)\n",
    "    X = BatchNormalization()(X)\n",
    "    X = Dense(43, activation='softmax')(X)\n",
    "\n",
    "    # Create model.\n",
    "    model = Model(inputs = X_input, outputs = X, name='CNN1')\n",
    "\n",
    "    return model"
   ]
  },
  {
   "cell_type": "code",
   "execution_count": 12,
   "metadata": {},
   "outputs": [],
   "source": [
    "# Create the model\n",
    "cnn3_2 = CNN3_2(X_train.shape[1:])\n",
    "\n",
    "# Compile model\n",
    "cnn3_2.compile(optimizer = \"adam\", loss='categorical_crossentropy', metrics=['accuracy'])"
   ]
  },
  {
   "cell_type": "code",
   "execution_count": 13,
   "metadata": {},
   "outputs": [
    {
     "name": "stdout",
     "output_type": "stream",
     "text": [
      "Model: \"CNN1\"\n",
      "_________________________________________________________________\n",
      " Layer (type)                Output Shape              Param #   \n",
      "=================================================================\n",
      " input_3 (InputLayer)        [(None, 30, 30, 3)]       0         \n",
      "                                                                 \n",
      " zero_padding2d_2 (ZeroPaddi  (None, 36, 36, 3)        0         \n",
      " ng2D)                                                           \n",
      "                                                                 \n",
      " conv0 (Conv2D)              (None, 34, 34, 32)        896       \n",
      "                                                                 \n",
      " batch_normalization (BatchN  (None, 34, 34, 32)       128       \n",
      " ormalization)                                                   \n",
      "                                                                 \n",
      " max_pooling2d_3 (MaxPooling  (None, 17, 17, 32)       0         \n",
      " 2D)                                                             \n",
      "                                                                 \n",
      " conv1 (Conv2D)              (None, 15, 15, 64)        18496     \n",
      "                                                                 \n",
      " batch_normalization_1 (Batc  (None, 15, 15, 64)       256       \n",
      " hNormalization)                                                 \n",
      "                                                                 \n",
      " max_pooling2d_4 (MaxPooling  (None, 7, 7, 64)         0         \n",
      " 2D)                                                             \n",
      "                                                                 \n",
      " conv2 (Conv2D)              (None, 5, 5, 128)         73856     \n",
      "                                                                 \n",
      " batch_normalization_2 (Batc  (None, 5, 5, 128)        512       \n",
      " hNormalization)                                                 \n",
      "                                                                 \n",
      " max_pooling2d_5 (MaxPooling  (None, 2, 2, 128)        0         \n",
      " 2D)                                                             \n",
      "                                                                 \n",
      " flatten_2 (Flatten)         (None, 512)               0         \n",
      "                                                                 \n",
      " dense_4 (Dense)             (None, 256)               131328    \n",
      "                                                                 \n",
      " batch_normalization_3 (Batc  (None, 256)              1024      \n",
      " hNormalization)                                                 \n",
      "                                                                 \n",
      " dense_5 (Dense)             (None, 43)                11051     \n",
      "                                                                 \n",
      "=================================================================\n",
      "Total params: 237,547\n",
      "Trainable params: 236,587\n",
      "Non-trainable params: 960\n",
      "_________________________________________________________________\n"
     ]
    }
   ],
   "source": [
    "# CNN model summary\n",
    "\n",
    "cnn3_2.summary()"
   ]
  },
  {
   "cell_type": "code",
   "execution_count": 14,
   "metadata": {},
   "outputs": [
    {
     "data": {
      "image/png": "[encoded data removed]",
      "text/plain": [
       "<PIL.Image.Image image mode=RGBA size=526x192>"
      ]
     },
     "execution_count": 14,
     "metadata": {},
     "output_type": "execute_result"
    }
   ],
   "source": [
    "visualkeras.layered_view(cnn3_2)"
   ]
  },
  {
   "cell_type": "markdown",
   "metadata": {},
   "source": [
    "# CNN3_3"
   ]
  },
  {
   "cell_type": "code",
   "execution_count": 15,
   "metadata": {},
   "outputs": [],
   "source": [
    "def CNN3_3(input_shape):\n",
    "    X_input = Input(input_shape)\n",
    "\n",
    "    X = ZeroPadding2D((3, 3))(X_input)\n",
    "\n",
    "    # BLOCK 1: CONV -> RELU -> MAXP -> DROPOUT\n",
    "    X = Conv2D(32, kernel_size=(3, 3), activation='relu', strides = (1, 1), name = 'conv0')(X)\n",
    "    X = BatchNormalization()(X)\n",
    "    X = MaxPooling2D(pool_size=(2, 2))(X)\n",
    "    X = Dropout(0.5)(X)\n",
    "\n",
    "    # BLOCK 2: CONV -> RELU -> MAXP -> DROPOUT\n",
    "    X = Conv2D(64, kernel_size=(3, 3), activation='relu', strides = (1, 1), name = 'conv1')(X)\n",
    "    X = BatchNormalization()(X)\n",
    "    X = MaxPooling2D(pool_size=(2, 2))(X)\n",
    "    X = Dropout(0.5)(X)\n",
    "\n",
    "    # BLOCK 3: CONV -> RELU -> MAXP -> DROPOUT\n",
    "    X = Conv2D(128, kernel_size=(3, 3), activation='relu', strides = (1, 1), name = 'conv2')(X)\n",
    "    X = BatchNormalization()(X)\n",
    "    X = MaxPooling2D(pool_size=(2, 2))(X)\n",
    "    X = Dropout(0.5)(X)\n",
    "\n",
    "    # FLATTEN X (means convert it to a vector) + FULLYCONNECTED\n",
    "    X = Flatten()(X)\n",
    "    X = Dense(256, activation='relu')(X)\n",
    "    X = BatchNormalization()(X)\n",
    "    X = Dense(43, activation='softmax')(X)\n",
    "\n",
    "    # Create model.\n",
    "    model = Model(inputs = X_input, outputs = X, name='CNN1')\n",
    "\n",
    "    return model"
   ]
  },
  {
   "cell_type": "code",
   "execution_count": 16,
   "metadata": {},
   "outputs": [],
   "source": [
    "# Create the model\n",
    "cnn3_3 = CNN3_3(X_train.shape[1:])\n",
    "\n",
    "# Compile model\n",
    "cnn3_3.compile(optimizer = \"adam\", loss='categorical_crossentropy', metrics=['accuracy'])"
   ]
  },
  {
   "cell_type": "code",
   "execution_count": 17,
   "metadata": {},
   "outputs": [
    {
     "name": "stdout",
     "output_type": "stream",
     "text": [
      "Model: \"CNN1\"\n",
      "_________________________________________________________________\n",
      " Layer (type)                Output Shape              Param #   \n",
      "=================================================================\n",
      " input_4 (InputLayer)        [(None, 30, 30, 3)]       0         \n",
      "                                                                 \n",
      " zero_padding2d_3 (ZeroPaddi  (None, 36, 36, 3)        0         \n",
      " ng2D)                                                           \n",
      "                                                                 \n",
      " conv0 (Conv2D)              (None, 34, 34, 32)        896       \n",
      "                                                                 \n",
      " batch_normalization_4 (Batc  (None, 34, 34, 32)       128       \n",
      " hNormalization)                                                 \n",
      "                                                                 \n",
      " max_pooling2d_6 (MaxPooling  (None, 17, 17, 32)       0         \n",
      " 2D)                                                             \n",
      "                                                                 \n",
      " dropout_6 (Dropout)         (None, 17, 17, 32)        0         \n",
      "                                                                 \n",
      " conv1 (Conv2D)              (None, 15, 15, 64)        18496     \n",
      "                                                                 \n",
      " batch_normalization_5 (Batc  (None, 15, 15, 64)       256       \n",
      " hNormalization)                                                 \n",
      "                                                                 \n",
      " max_pooling2d_7 (MaxPooling  (None, 7, 7, 64)         0         \n",
      " 2D)                                                             \n",
      "                                                                 \n",
      " dropout_7 (Dropout)         (None, 7, 7, 64)          0         \n",
      "                                                                 \n",
      " conv2 (Conv2D)              (None, 5, 5, 128)         73856     \n",
      "                                                                 \n",
      " batch_normalization_6 (Batc  (None, 5, 5, 128)        512       \n",
      " hNormalization)                                                 \n",
      "                                                                 \n",
      " max_pooling2d_8 (MaxPooling  (None, 2, 2, 128)        0         \n",
      " 2D)                                                             \n",
      "                                                                 \n",
      " dropout_8 (Dropout)         (None, 2, 2, 128)         0         \n",
      "                                                                 \n",
      " flatten_3 (Flatten)         (None, 512)               0         \n",
      "                                                                 \n",
      " dense_6 (Dense)             (None, 256)               131328    \n",
      "                                                                 \n",
      " batch_normalization_7 (Batc  (None, 256)              1024      \n",
      " hNormalization)                                                 \n",
      "                                                                 \n",
      " dense_7 (Dense)             (None, 43)                11051     \n",
      "                                                                 \n",
      "=================================================================\n",
      "Total params: 237,547\n",
      "Trainable params: 236,587\n",
      "Non-trainable params: 960\n",
      "_________________________________________________________________\n"
     ]
    }
   ],
   "source": [
    "# CNN model summary\n",
    "\n",
    "cnn3_3.summary()"
   ]
  },
  {
   "cell_type": "code",
   "execution_count": 18,
   "metadata": {},
   "outputs": [
    {
     "data": {
      "image/png": "[encoded data removed]",
      "text/plain": [
       "<PIL.Image.Image image mode=RGBA size=616x192>"
      ]
     },
     "execution_count": 18,
     "metadata": {},
     "output_type": "execute_result"
    }
   ],
   "source": [
    "visualkeras.layered_view(cnn3_3)"
   ]
  },
  {
   "cell_type": "markdown",
   "metadata": {},
   "source": [
    "# CNN4_1"
   ]
  },
  {
   "cell_type": "code",
   "execution_count": 19,
   "metadata": {},
   "outputs": [],
   "source": [
    "def CNN4_1(input_shape):\n",
    "    X_input = Input(input_shape)\n",
    "\n",
    "    X = ZeroPadding2D((3, 3))(X_input)\n",
    "\n",
    "    # BLOCK 1: CONV -> RELU -> MAXP -> DROPOUT\n",
    "    X = Conv2D(32, kernel_size=(3, 3), activation='relu', strides = (1, 1), name = 'conv0')(X)\n",
    "    X = BatchNormalization()(X)\n",
    "\n",
    "    X = Conv2D(32, kernel_size=(3, 3), activation='relu', strides = (1, 1), name = 'conv1')(X)\n",
    "    X = BatchNormalization()(X)\n",
    "    X = MaxPooling2D(pool_size=(2, 2))(X)\n",
    "    X = Dropout(0.25)(X)\n",
    "\n",
    "    # BLOCK 2: CONV -> RELU -> MAXP -> DROPOUT\n",
    "    X = Conv2D(64, kernel_size=(3, 3), activation='relu', strides = (1, 1), name = 'conv2')(X)\n",
    "    X = BatchNormalization()(X)\n",
    "    X = Dropout(0.25)(X)\n",
    "\n",
    "    X = Conv2D(128, kernel_size=(3, 3), activation='relu', strides = (1, 1), name = 'conv3')(X)\n",
    "    X = BatchNormalization()(X)\n",
    "    X = MaxPooling2D(pool_size=(2, 2))(X)\n",
    "    X = Dropout(0.25)(X)\n",
    "\n",
    "    X = Flatten()(X)\n",
    "\n",
    "    X = Dense(512, activation='relu')(X)\n",
    "    X = BatchNormalization()(X)\n",
    "    X = Dropout(0.5)(X)\n",
    "\n",
    "    X = Dense(256, activation='relu')(X)\n",
    "    X = BatchNormalization()(X)\n",
    "    X = Dropout(0.5)(X)\n",
    "\n",
    "    X = Dense(43, activation='softmax')(X)\n",
    "\n",
    "    # Create model.\n",
    "    model = Model(inputs = X_input, outputs = X, name='CNN1')\n",
    "\n",
    "    return model"
   ]
  },
  {
   "cell_type": "code",
   "execution_count": 20,
   "metadata": {},
   "outputs": [],
   "source": [
    "# Create the model\n",
    "cnn4_1 = CNN4_1(X_train.shape[1:])\n",
    "\n",
    "# Compile model\n",
    "cnn4_1.compile(optimizer = \"adam\", loss='categorical_crossentropy', metrics=['accuracy'])"
   ]
  },
  {
   "cell_type": "code",
   "execution_count": 21,
   "metadata": {},
   "outputs": [
    {
     "name": "stdout",
     "output_type": "stream",
     "text": [
      "Model: \"CNN1\"\n",
      "_________________________________________________________________\n",
      " Layer (type)                Output Shape              Param #   \n",
      "=================================================================\n",
      " input_5 (InputLayer)        [(None, 30, 30, 3)]       0         \n",
      "                                                                 \n",
      " zero_padding2d_4 (ZeroPaddi  (None, 36, 36, 3)        0         \n",
      " ng2D)                                                           \n",
      "                                                                 \n",
      " conv0 (Conv2D)              (None, 34, 34, 32)        896       \n",
      "                                                                 \n",
      " batch_normalization_8 (Batc  (None, 34, 34, 32)       128       \n",
      " hNormalization)                                                 \n",
      "                                                                 \n",
      " conv1 (Conv2D)              (None, 32, 32, 32)        9248      \n",
      "                                                                 \n",
      " batch_normalization_9 (Batc  (None, 32, 32, 32)       128       \n",
      " hNormalization)                                                 \n",
      "                                                                 \n",
      " max_pooling2d_9 (MaxPooling  (None, 16, 16, 32)       0         \n",
      " 2D)                                                             \n",
      "                                                                 \n",
      " dropout_9 (Dropout)         (None, 16, 16, 32)        0         \n",
      "                                                                 \n",
      " conv2 (Conv2D)              (None, 14, 14, 64)        18496     \n",
      "                                                                 \n",
      " batch_normalization_10 (Bat  (None, 14, 14, 64)       256       \n",
      " chNormalization)                                                \n",
      "                                                                 \n",
      " dropout_10 (Dropout)        (None, 14, 14, 64)        0         \n",
      "                                                                 \n",
      " conv3 (Conv2D)              (None, 12, 12, 128)       73856     \n",
      "                                                                 \n",
      " batch_normalization_11 (Bat  (None, 12, 12, 128)      512       \n",
      " chNormalization)                                                \n",
      "                                                                 \n",
      " max_pooling2d_10 (MaxPoolin  (None, 6, 6, 128)        0         \n",
      " g2D)                                                            \n",
      "                                                                 \n",
      " dropout_11 (Dropout)        (None, 6, 6, 128)         0         \n",
      "                                                                 \n",
      " flatten_4 (Flatten)         (None, 4608)              0         \n",
      "                                                                 \n",
      " dense_8 (Dense)             (None, 512)               2359808   \n",
      "                                                                 \n",
      " batch_normalization_12 (Bat  (None, 512)              2048      \n",
      " chNormalization)                                                \n",
      "                                                                 \n",
      " dropout_12 (Dropout)        (None, 512)               0         \n",
      "                                                                 \n",
      " dense_9 (Dense)             (None, 256)               131328    \n",
      "                                                                 \n",
      " batch_normalization_13 (Bat  (None, 256)              1024      \n",
      " chNormalization)                                                \n",
      "                                                                 \n",
      " dropout_13 (Dropout)        (None, 256)               0         \n",
      "                                                                 \n",
      " dense_10 (Dense)            (None, 43)                11051     \n",
      "                                                                 \n",
      "=================================================================\n",
      "Total params: 2,608,779\n",
      "Trainable params: 2,606,731\n",
      "Non-trainable params: 2,048\n",
      "_________________________________________________________________\n"
     ]
    }
   ],
   "source": [
    "# CNN model summary\n",
    "\n",
    "cnn4_1.summary()"
   ]
  },
  {
   "cell_type": "code",
   "execution_count": 22,
   "metadata": {},
   "outputs": [
    {
     "data": {
      "image/png": "[encoded data removed]",
      "text/plain": [
       "<PIL.Image.Image image mode=RGBA size=1214x192>"
      ]
     },
     "execution_count": 22,
     "metadata": {},
     "output_type": "execute_result"
    }
   ],
   "source": [
    "visualkeras.layered_view(cnn4_1)"
   ]
  }
 ],
 "metadata": {
  "kernelspec": {
   "display_name": "Python 3.10.9 ('base')",
   "language": "python",
   "name": "python3"
  },
  "language_info": {
   "codemirror_mode": {
    "name": "ipython",
    "version": 3
   },
   "file_extension": ".py",
   "mimetype": "text/x-python",
   "name": "python",
   "nbconvert_exporter": "python",
   "pygments_lexer": "ipython3",
   "version": "3.10.9"
  },
  "orig_nbformat": 4,
  "vscode": {
   "interpreter": {
    "hash": "e662921971543f0c1b7e58ad957303fc509e2cf2db917fc28542c6728a789df0"
   }
  }
 },
 "nbformat": 4,
 "nbformat_minor": 2
}
